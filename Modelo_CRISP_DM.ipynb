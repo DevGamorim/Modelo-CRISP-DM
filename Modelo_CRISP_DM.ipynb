{
  "nbformat": 4,
  "nbformat_minor": 0,
  "metadata": {
    "colab": {
      "provenance": []
    },
    "kernelspec": {
      "name": "python3",
      "display_name": "Python 3"
    },
    "language_info": {
      "name": "python"
    }
  },
  "cells": [
    {
      "cell_type": "markdown",
      "source": [
        "# Modelo para Projetos de Mineração de Dados usando CRISP-DM\n",
        "*Luiz Rodrigues (ultima atualização: 20/07/2022).*\n",
        "\n",
        "## Apresentação\n",
        "\n",
        "* Esse notebook fornece um modelo para planejamento, condução, e relato de projetos de mineração de dados\n",
        "* O notebook está organizado de acordo com as seis fases do CRISP-DM\n",
        "\n",
        "## Usando o Modelo\n",
        "Para usar este modelo, basta:\n",
        "1. Fazer uma cópia do mesmo (para o seu Google Drive, por exemplo);\n",
        "2. Alterar/preencher as células de forma a satisfazer e justificar os pontos de cada uma das tarefas das seis fases do CRISP-DM\n",
        "\n",
        "## Organização\n",
        "* Este modelo está organizado em seis seções, uma para cada fase do CRISP-DM;\n",
        "* Cada seção está organizada em subsções, uma para cada tarefa da respectiva fase.\n",
        "\n",
        "## Recomendações\n",
        "Para um melhor proveito desse notebook, sugiro a leitura das principais referencias que usei para escrevê-lo:\n",
        "* \"What is CRISP DM?\", de Nick Hotz: https://www.datascience-pm.com/crisp-dm-2/\n",
        "* \"CRISP-DM is Still the Most Popular Framework for Executing Data Science Projects\", de Jeff Saltz: https://www.datascience-pm.com/crisp-dm-still-most-popular/\n",
        "* \"CRISP-DM: Towards a Standard Process Model for Data Mining\", de Wirth e Hipp: http://cs.unibo.it/~danilo.montesi/CBD/Beatriz/10.1.1.198.5133.pdf\n",
        "\n",
        "Como um exemplo prático de uso do CRISP-DM, cito o artigo *GARFIELD - A Recommender System to Personalize Gamified Learning*.\n",
        "* O artigo pode ser acessado no seguinte link: https://rodriguesluiz.github.io/publications/garfield.pdf\n",
        "* Uma breve apresentação da pesquisa (em inglês) pode ser vista em: https://www.youtube.com/watch?v=vqvC3BSn124\n",
        "* Materiais suplementares da pesquisa, incluindo o arquivo usado para analisar os dados, pode ser acessado em: https://osf.io/znyx2"
      ],
      "metadata": {
        "id": "pCqOol2S5B6h"
      }
    },
    {
      "cell_type": "markdown",
      "source": [
        "# 1 Entendimento do Negócio\n",
        "\n",
        "Essa fase foca em entender os objetivos e requisitos do projeto. Esta é uma das fases mais importantes, uma vez que ela fundamenta todas as outras. Ela é composta por quatro subfases, as quais são apresentadas na sequência.\n"
      ],
      "metadata": {
        "id": "jsCrfMODMWtG"
      }
    },
    {
      "cell_type": "markdown",
      "source": [
        "## 1.1 Determinar os objetivos do negócio\n",
        "\n",
        "Da perspectiva do negócio, o que o cliente realmente quer alcançar?\n",
        "- Uma forma de identificar as reações dos reviews deixado pelos usuários dentro do sistema.\n",
        "\n",
        "Quais são os critérios de sucesso?\n",
        "- Obter corretamente a reação dos usuários."
      ],
      "metadata": {
        "id": "g185q-MnNUx3"
      }
    },
    {
      "cell_type": "markdown",
      "source": [
        "## 1.2 Avaliar a Situação\n",
        "\n",
        "Quais recursos estão disponíveis?\n",
        "- Os recursos disponiveis sao o feedback e avaliação de estrelas feitas pelo usuário\n",
        "\n",
        "Quais são os requisitos do projeto?\n",
        "- Possibilitar que, a partir dos reviews deixados pelos usuários, possamos identificar o sentimento dos usuarios, assim permitindo identificar se o review é positivo ou negativo.\n",
        "\n",
        "Quais são os riscos e contingencias?\n",
        "- Não atingir objetivo amejado.\n",
        "\n",
        "Qual o custo-benefício da situação?\n",
        "- Uma vez que temos dados, recursos computacionais e humanos à nossa disposição, consideramos que o custo-benefício deste projeto é positivo."
      ],
      "metadata": {
        "id": "hFiOMmaEN2xO"
      }
    },
    {
      "cell_type": "markdown",
      "source": [
        "## 1.3 Determinar os objetivos da mineração de dados\n",
        "\n",
        "Do ponto de vista técnico, da mineração de dados, quais são os critérios de sucesso?\n",
        "- Criar um modelo que permita indentificar pelos 60% do comentários."
      ],
      "metadata": {
        "id": "PBlltPW5OJ_-"
      }
    },
    {
      "cell_type": "markdown",
      "source": [
        "## 1.4 Planejar o projeto\n",
        "\n",
        "Quais tecnologias e ferramentas serão usadas?\n",
        "* *Python para programação*,\n",
        "* *Pandas para lidar com os dados*,\n",
        "* *Sklearn para lidar com dados e modelagem*,\n",
        "* *Google Collab e Visual Studio Code para documentação, condução*,\n",
        "* *Github para compartilhamento da solução entre a equipe*,\n",
        "\n",
        "Qual o plano para cada fase do projeto?\n",
        "* *O plano consiste na realização de cada etapa do projeto de forma gradual e progressiva dentro do cronograma estipulado para o desenvolvimento, buscado sempre excelencia nos resultados obtidos.*"
      ],
      "metadata": {
        "id": "b4lsTwyXOXoV"
      }
    },
    {
      "cell_type": "markdown",
      "source": [
        "# 2 Entendimento dos Dados\n",
        "\n",
        "Essa fase foca em identificar, coletar e analisar conjuntos de dados que podem nos ajudar a alcançar os objetivos do projeto. Ela também é composta por quatro tarefas."
      ],
      "metadata": {
        "id": "4smwcvlaMV73"
      }
    },
    {
      "cell_type": "markdown",
      "source": [
        "## 2.1 Coleta de dados inicial\n",
        "\n",
        "Coletar os dados necessários e - se necessário - carrega-los na ferramenta de análise.\n",
        "- Tendo em vista que o nosso projeto da jornada não está finalizado, logo não possui feedback de usuários, utilizaremos um dataset do TripAdvisor Hotel (O dataset pode ser encontrado no link: https://www.kaggle.com/datasets/andrewmvd/trip-advisor-hotel-reviews)."
      ],
      "metadata": {
        "id": "4PxysExZP142"
      }
    },
    {
      "cell_type": "markdown",
      "source": [
        "## 2.2 Descrever os dados\n",
        "\n",
        "Examine os dados e documente suas principais propriedades, como formato, número de linhas, colunas, etc.\n",
        "* *Os dados estão organizados em um arquivo de texto no formato csv.*\n",
        "* *O arquivo 'tripadvisor_hotel_reviews.csv' apresenta as informações dos reviews. Logo, cada linha representa um review. Ele contém 2 colunas. Por simplicidade, vou descrever apenas algumas delas:*\n",
        "*  *Review (text): review deixo pelo usuário*\n",
        "*  *Rating (int): curso em que o aluno está matriculado*\n"
      ],
      "metadata": {
        "id": "kUP6dCdIQD39"
      }
    },
    {
      "cell_type": "markdown",
      "source": [
        "## 2.3 Explorar os dados\n",
        "\n",
        "Mergulhe nos dados, faça visualizações, identifique relações entre os dados, etc."
      ],
      "metadata": {
        "id": "mFdk7CkdQTKN"
      }
    },
    {
      "cell_type": "markdown",
      "source": [
        "## 2.4 Verifique a qualidade dos dados\n",
        "\n",
        "Verifique e documente qualquer problema de qualidade/limpeza dos dados."
      ],
      "metadata": {
        "id": "W4W0NgjbQgok"
      }
    },
    {
      "cell_type": "markdown",
      "source": [
        "# 3 Preparação dos Dados\n",
        "\n",
        "Essa fase prepara o(s) conjunto(s) de dados para a modelagem. Ela envolve cinco tarefas."
      ],
      "metadata": {
        "id": "1f0tSbV7MVzr"
      }
    },
    {
      "cell_type": "markdown",
      "source": [
        "## 3.1 Selecione os dados\n",
        "\n",
        "Determine qual conjunto de dados será usado e documente suas escolhas."
      ],
      "metadata": {
        "id": "TB5gMGZhQ-KX"
      }
    },
    {
      "cell_type": "markdown",
      "source": [
        "## 3.2 Limpe os dados\n",
        "\n",
        "É comum que as tarefas dessa fase sejam corrigir, preencher ou remover valores Normalmente, esta é a tarefa mais demorada, sendo de extrema importancia para o sucesso da análise. Lembre-se: garbage-in, garbage-out; ou seja, se entra lixo, sai lixo."
      ],
      "metadata": {
        "id": "t-3LUYgLQ_gd"
      }
    },
    {
      "cell_type": "markdown",
      "source": [
        "## 3.3 Construa dados\n",
        "\n",
        "Derive novos atributos que irão ajudar suas análises. Exemplo: derivar o IMC a partir dos atributos Peso e Altura.\n"
      ],
      "metadata": {
        "id": "5AnKDVqXQ_V8"
      }
    },
    {
      "cell_type": "markdown",
      "source": [
        "## 3.4 Integre os dados\n",
        "\n",
        "Crie novos conjuntos de dados ao combinar dados de várias fontes."
      ],
      "metadata": {
        "id": "RqJ390QJQ_KN"
      }
    },
    {
      "cell_type": "markdown",
      "source": [
        "## 3.5 Formate os dados\n",
        "\n",
        "A reformatação de dados é necessária em certas ocasiões. Exemplo: converter \"1.7\" (string) para 1.7 (float)"
      ],
      "metadata": {
        "id": "xxDdejRmQ-_r"
      }
    },
    {
      "cell_type": "markdown",
      "source": [
        "# 4 Modelagem\n",
        "\n",
        "Nessa fase, é provavel que você irá criar e analisar varios modelos a partir de muitas técnicas. Essa fase envolve quatro tarefas."
      ],
      "metadata": {
        "id": "wliVaI5TMVxm"
      }
    },
    {
      "cell_type": "markdown",
      "source": [
        "## 4.1 Selecione técnicas de modelagem\n",
        "\n",
        "Determine quais algoritmos você vai experimentar. Exemplos: regressão linear, árvore de decisão, redes neurais, etc."
      ],
      "metadata": {
        "id": "RyKTGOi9ScGg"
      }
    },
    {
      "cell_type": "markdown",
      "source": [
        "## 4.2 Gere sua abordagem de teste\n",
        "\n",
        "É comum que você separe seu conjunto de dados em, por exemplo, conjuntos de trainamento, validação, e teste. Embora essa fase faça parte da quarta fase do CRISP-DM, **recomendo que ela seja realizada antes de qualquer análise dos dados para minimizar ao máximo as chances de *overfitting*.**"
      ],
      "metadata": {
        "id": "vSWe-HhESdcH"
      }
    },
    {
      "cell_type": "markdown",
      "source": [
        "## 4.3 Construa o modelo\n",
        "\n",
        "Na prática, uma das fases mais simples. Exemplo: *reg = LinearRegression().fit(X, y)*"
      ],
      "metadata": {
        "id": "dI9OEnJGSdNQ"
      }
    },
    {
      "cell_type": "markdown",
      "source": [
        "## 4.4 Analise o modelo\n",
        "\n",
        "Interprete todos os modelos criados no passo anterior, com base nos critérios de sucesso, abordagem de teste, conhecimento de domínio, etc."
      ],
      "metadata": {
        "id": "Vromy1RnSc1s"
      }
    },
    {
      "cell_type": "markdown",
      "source": [
        "# 5 Avaliação\n",
        "\n",
        "Por um lado, a tarefa 4.4 foca no ponto de vista técnico. Por outro lado, a fase Avaliação foca em avaliar qual modelo melhor se encaixa no negócio e quais são os próximos passos. Ela envolve três tarefas."
      ],
      "metadata": {
        "id": "gXnzq7DkMVn4"
      }
    },
    {
      "cell_type": "markdown",
      "source": [
        "## 5.1 Avaliar os resultados\n",
        "\n",
        "Os modelos alcançam os critérios de sucesso de negócio?\n",
        "\n",
        "Quais modelos devemos aprovar para o negócio?"
      ],
      "metadata": {
        "id": "jfBdQkiAUUGD"
      }
    },
    {
      "cell_type": "markdown",
      "source": [
        "## 5.2 Revise o processo\n",
        "\n",
        "Revise o projeto, resuma os resultados e corrija tudo que for necessário. Por exemplo:\n",
        "* Alguma coisa não foi analisada de forma correta?\n",
        "* Todos os passos foram executados de forma adequada?"
      ],
      "metadata": {
        "id": "Wxph0eryUT8T"
      }
    },
    {
      "cell_type": "markdown",
      "source": [
        "## 5.3 Defina os próximos passos\n",
        "\n",
        "Com base nas três ultimas tarefas, define se é hora de mover para a implantação, fazer uma nova iteração, ou iniciar novos projetos."
      ],
      "metadata": {
        "id": "8SFcWkA_UTGL"
      }
    },
    {
      "cell_type": "markdown",
      "source": [
        "# 6 Implantação\n",
        "\n",
        "Um modelo só é útil se o cliente pode acessar seus resultados. Para que isso seja possível, essa fase envolve quatro tarefas."
      ],
      "metadata": {
        "id": "XbN__suxMVfO"
      }
    },
    {
      "cell_type": "markdown",
      "source": [
        "## 6.1 Planeje a Implantação\n",
        "\n",
        "Desenvolva e documente o plano de implantação do modelo."
      ],
      "metadata": {
        "id": "-8slVsvyVH5e"
      }
    },
    {
      "cell_type": "markdown",
      "source": [
        "## 6.2 Planeje a monitoração e manutenção\n",
        "\n",
        "Desenvolva um plano rigoroso de monitoramento e manutenção do modelo para evitar problemas operacionais."
      ],
      "metadata": {
        "id": "ecdS5W67VHy6"
      }
    },
    {
      "cell_type": "markdown",
      "source": [
        "## 6.3 Produza um relatório final\n",
        "\n",
        "Documente um resumo final do projeto, podendo incluir uma apresentação final dos resultados da mineração de dados."
      ],
      "metadata": {
        "id": "EQqiDJjDVHuh"
      }
    },
    {
      "cell_type": "markdown",
      "source": [
        "## 6.4 Revise o projeto\n",
        "\n",
        "Faça uma retrospectiva do projeto, sobre o que foi bom, o que poderia ser melhor, e como melhorar no futuro."
      ],
      "metadata": {
        "id": "mkt6dkl0VHaC"
      }
    }
  ]
}